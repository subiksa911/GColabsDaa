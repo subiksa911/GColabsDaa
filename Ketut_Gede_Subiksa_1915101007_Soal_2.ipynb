{
  "nbformat": 4,
  "nbformat_minor": 0,
  "metadata": {
    "colab": {
      "name": "Ketut Gede Subiksa 1915101007_Soal 2.ipynb",
      "provenance": [],
      "collapsed_sections": [],
      "authorship_tag": "ABX9TyOUHxBN3x9ui5yn5zk8+BGA",
      "include_colab_link": true
    },
    "kernelspec": {
      "name": "python3",
      "display_name": "Python 3"
    },
    "language_info": {
      "name": "python"
    }
  },
  "cells": [
    {
      "cell_type": "markdown",
      "metadata": {
        "id": "view-in-github",
        "colab_type": "text"
      },
      "source": [
        "<a href=\"https://colab.research.google.com/github/subiksa911/GColabsDaa/blob/main/Ketut_Gede_Subiksa_1915101007_Soal_2.ipynb\" target=\"_parent\"><img src=\"https://colab.research.google.com/assets/colab-badge.svg\" alt=\"Open In Colab\"/></a>"
      ]
    },
    {
      "cell_type": "code",
      "execution_count": null,
      "metadata": {
        "id": "ywXc1f1zp2T3"
      },
      "outputs": [],
      "source": [
        "#2A\n",
        "def multi(n, x):\n",
        "  if n == 0:\n",
        "    return 0\n",
        "  elif n == 1:\n",
        "    return x\n",
        "  else:\n",
        "    return x + multi(n-1,x)\n",
        "n = int(input(\"Masukan Nilai 1 : \"))\n",
        "x = int(input(\"Masukan Nilai 2 : \"))\n",
        "print(multi(n,x))"
      ]
    },
    {
      "cell_type": "code",
      "source": [
        "#2B\n",
        "def powering(x,y):\n",
        "   if y == 0:\n",
        "      return 1\n",
        "   else:\n",
        "      return pow (x,y)\n",
        "\n",
        "x = int(input(\"Masukan Nilai X : \"))\n",
        "y = int(input(\"Masukan Nilai Y : \"))\n",
        "\n",
        "print(\"%d pangkat %d = %d\" % (x,y,powering(x,y)))"
      ],
      "metadata": {
        "id": "mk8dhB-ZbGLl"
      },
      "execution_count": null,
      "outputs": []
    },
    {
      "cell_type": "code",
      "source": [
        "#2C\n",
        "def printD(angka):\n",
        "    if angka > 1 :\n",
        "        print (angka)\n",
        "        angka = angka - 1\n",
        "        printD(angka)\n",
        "    else :\n",
        "        print(angka)\n",
        "masukan = int(input(\"Masukkan Jumlah Angka : \"))\n",
        "printD(masukan)"
      ],
      "metadata": {
        "id": "rk0M-4-njL5k"
      },
      "execution_count": null,
      "outputs": []
    },
    {
      "cell_type": "code",
      "source": [
        "#2D\n",
        "def printU(n):\n",
        "    if n == 1:\n",
        "        return 1\n",
        "    return printU(n-1) + 1\n",
        "x = int(input(\"Masukan Batsan x : \"))\n",
        "for i in range(1,x):\n",
        "    print(\"%3d\" % printU(i), end='')"
      ],
      "metadata": {
        "id": "3H7lmxxWWuyK"
      },
      "execution_count": null,
      "outputs": []
    },
    {
      "cell_type": "code",
      "source": [
        "#2E\n",
        "def reverse(s): \n",
        "    if len(s) == 0: \n",
        "        return s \n",
        "    else: \n",
        "        return reverse(s[1:]) + s[0] \n",
        "s = str(input(\"Masukan Kata : \"))\n",
        "print (\"Kata yang sudah dibalik: \",end=\"\") \n",
        "print (reverse(s)) "
      ],
      "metadata": {
        "id": "mfqjl_mHbI3M"
      },
      "execution_count": null,
      "outputs": []
    },
    {
      "cell_type": "code",
      "source": [
        "#2F\n",
        "def bilprima(x):\n",
        "  for i in range(2, x):\n",
        "    if x % i == 0:\n",
        "      return False\n",
        "    return True\n",
        "x = int(input(\"Masukkan Bilangan Prima : \"))\n",
        "print(bilprima(x))\n"
      ],
      "metadata": {
        "id": "6WTa9FjCbKUU"
      },
      "execution_count": null,
      "outputs": []
    },
    {
      "cell_type": "code",
      "source": [
        "#2G\n",
        "def fibo(n):\n",
        "   if n == 0 or n == 1:\n",
        "      return n\n",
        "   else:\n",
        "      return (fibo(n-1) + fibo(n-2))\n",
        "\n",
        "x = int(input(\"Masukan Batas Deret Bilangan Fibonacci : \"))\n",
        "print(\"Deret Fibonacci\")\n",
        "for i in range(x):\n",
        "   print(fibo(i),end=' ')"
      ],
      "metadata": {
        "id": "aNgjPlQ2UNI_"
      },
      "execution_count": null,
      "outputs": []
    }
  ]
}